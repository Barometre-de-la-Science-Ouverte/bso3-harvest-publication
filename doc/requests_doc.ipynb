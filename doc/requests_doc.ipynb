{
 "cells": [
  {
   "cell_type": "markdown",
   "metadata": {},
   "source": [
    "# Documentation of the requests for the bso3-harvest-publication application"
   ]
  },
  {
   "cell_type": "code",
   "execution_count": null,
   "metadata": {},
   "outputs": [],
   "source": [
    "import requests\n",
    "\n",
    "payload = {}\n",
    "base_url = \"http://127.0.0.1:5004/\"\n",
    "base_url = \"http://51.210.210.138/\"\n",
    "harvest_endpoint = \"harvest_partitions\"\n",
    "process_endpoint = \"process\"\n",
    "harvest_url = base_url + harvest_endpoint\n",
    "process_url = base_url + process_endpoint\n",
    "headers = {\"Content-Type\": \"application/json\"}"
   ]
  },
  {
   "cell_type": "code",
   "execution_count": null,
   "metadata": {},
   "outputs": [],
   "source": [
    "harvest_payload = {\n",
    "    \"metadata_file\": \"bso-publications-latest.jsonl.gz\", # file containing the metadata of publications to be harvested 2867967 lines\n",
    "    \"total_partition_number\": 2867, # Number of partitions\n",
    "    \"doi_list\": [] # Mostly used in tests and development, download publications with doi matching those in the list\n",
    "}\n",
    "requests.post(harvest_url, headers=headers, json=harvest_payload)"
   ]
  },
  {
   "cell_type": "code",
   "execution_count": null,
   "metadata": {},
   "outputs": [],
   "source": [
    "process_payload = {\n",
    "    \"partition_size\": 2, # Size of the partitions\n",
    "    \"spec_grobid_version\": \"0.7.2-SNAPSHOT\", # Schedule publications processed with a version number less than the one specified to be processed by Grobid\n",
    "    \"spec_softcite_version\": \"0.7.1\", # Schedule publications processed with a version number less than the one specified to be processed by Softcite\n",
    "    \"spec_datastet_version\": \"0.7.2-SNAPSHOT\", # Schedule publications processed with a version number less than the one specified to be processed by Datastet\n",
    "    \"break_after_one\": False # Mostly used in tests and development, stop the scheduling of the tasks after the first one if true\n",
    "}\n",
    "requests.get(process_url, headers=headers, data=process_payload)"
   ]
  }
 ],
 "metadata": {
  "kernelspec": {
   "display_name": "Python 3.7.1 ('venv': virtualenv)",
   "language": "python",
   "name": "python3"
  },
  "language_info": {
   "codemirror_mode": {
    "name": "ipython",
    "version": 3
   },
   "file_extension": ".py",
   "mimetype": "text/x-python",
   "name": "python",
   "nbconvert_exporter": "python",
   "pygments_lexer": "ipython3",
   "version": "3.7.1"
  },
  "orig_nbformat": 4,
  "vscode": {
   "interpreter": {
    "hash": "31525128ea8b8ba67a359f8e8d43d8a505ff95cf5b792e0bb8c706375f6fc025"
   }
  }
 },
 "nbformat": 4,
 "nbformat_minor": 2
}
