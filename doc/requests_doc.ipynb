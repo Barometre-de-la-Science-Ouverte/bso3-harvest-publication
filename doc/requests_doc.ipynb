{
 "cells": [
  {
   "cell_type": "markdown",
   "metadata": {},
   "source": [
    "# Documentation of the requests for the bso3-harvest-publication application"
   ]
  },
  {
   "cell_type": "code",
   "execution_count": null,
   "metadata": {},
   "outputs": [],
   "source": [
    "import requests\n",
    "\n",
    "payload = {}\n",
    "# base_url = \"http://127.0.0.1:5004/\"\n",
    "base_url = \"http://harvest.bso3.dataesr.ovh/\"\n",
    "harvest_endpoint = \"harvest_partitions\"\n",
    "process_endpoint = \"process\"\n",
    "harvest_url = base_url + harvest_endpoint\n",
    "process_url = base_url + process_endpoint\n",
    "headers = {\"Content-Type\": \"application/json\"}"
   ]
  },
  {
   "cell_type": "code",
   "execution_count": null,
   "metadata": {},
   "outputs": [],
   "source": [
    "harvest_payload = {\n",
    "    \"metadata_file\": \"bso-publications-latest.jsonl.gz\", # file containing the metadata of publications to be harvested 2867967 lines\n",
    "    \"total_partition_number\": 2867, # Number of partitions\n",
    "    \"doi_list\": [] # Mostly used in tests and development, download publications with doi matching those in the list\n",
    "}\n",
    "requests.post(harvest_url, headers=headers, json=harvest_payload)"
   ]
  },
  {
   "cell_type": "code",
   "execution_count": null,
   "metadata": {},
   "outputs": [],
   "source": [
    "process_payload = {\n",
    "    \"partition_size\": 2, # Size of the partitions\n",
    "    # Schedule publications to be processed if the db stored version number is less than the one specified\n",
    "    \"spec_grobid_version\": \"0.7.2-SNAPSHOT\",\n",
    "    \"spec_softcite_version\": \"0.7.1\",\n",
    "    \"spec_datastet_version\": \"0.7.2-SNAPSHOT\",\n",
    "    \"break_after_one\": False # Mostly used in tests and development, stop the scheduling of the tasks after the first one if true\n",
    "}\n",
    "requests.post(process_url, headers=headers, data=process_payload)"
   ]
  }
 ],
 "metadata": {
  "kernelspec": {
   "display_name": "Python 3.7.1 ('venv': virtualenv)",
   "language": "python",
   "name": "python3"
  },
  "language_info": {
   "name": "python",
   "version": "3.7.1"
  },
  "vscode": {
   "interpreter": {
    "hash": "31525128ea8b8ba67a359f8e8d43d8a505ff95cf5b792e0bb8c706375f6fc025"
   }
  },
  "widgets": {
   "application/vnd.jupyter.widget-state+json": {
    "state": {},
    "version_major": 2,
    "version_minor": 0
   }
  }
 },
 "nbformat": 4,
 "nbformat_minor": 2
}
