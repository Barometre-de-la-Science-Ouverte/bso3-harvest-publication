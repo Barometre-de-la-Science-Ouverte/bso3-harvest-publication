{
 "cells": [
  {
   "cell_type": "markdown",
   "metadata": {},
   "source": [
    "# Documentation of the requests for the bso3-harvest-publication application"
   ]
  },
  {
   "cell_type": "code",
   "execution_count": null,
   "metadata": {},
   "outputs": [],
   "source": [
    "import requests\n",
    "\n",
    "payload = {}\n",
    "base_url = \"http://127.0.0.1:5004/\"\n",
    "harvest_endpoint = \"harvest_partitions\"\n",
    "process_endpoint = \"process\"\n",
    "harvest_url = base_url + harvest_endpoint\n",
    "process_url = base_url + process_endpoint\n",
    "headers = {\"Content-Type: application/json\"}"
   ]
  },
  {
   "cell_type": "code",
   "execution_count": null,
   "metadata": {},
   "outputs": [],
   "source": [
    "harvest_payload = {\n",
    "    \"metadata_file\": \"bso-publications-20220410-non-harvested-oa-wiley.jsonl.gz\", # file containing the metadata of publications to be harvested\n",
    "    \"total_partition_number\": 1000, # Number of publications per partition\n",
    "    \"doi_list\": [] # Mostly used in tests and development, download publications with doi matching those in the list\n",
    "}\n",
    "requests.get(harvest_url, headers=headers, data=harvest_payload)"
   ]
  },
  {
   "cell_type": "code",
   "execution_count": 2,
   "metadata": {},
   "outputs": [
    {
     "ename": "SyntaxError",
     "evalue": "invalid syntax (3258584172.py, line 1)",
     "output_type": "error",
     "traceback": [
      "\u001b[0;36m  File \u001b[0;32m\"/var/folders/dw/_vv3jnrd4492r2hv15yqfbn40000gn/T/ipykernel_22438/3258584172.py\"\u001b[0;36m, line \u001b[0;32m1\u001b[0m\n\u001b[0;31m    curl  -H \"Content-Type: application/json\" -X POST http://51.210.210.138/process -d '{\"partition_size\": 2, \"spec_grobid_version\": \"0.7.2-SNAPSHOT\", \"spec_softcite_version\": \"0.7.1\", \"spec_datastet_version\": \"0.7.2-SNAPSHOT\", \"break_after_one\": true}'\u001b[0m\n\u001b[0m                                            ^\u001b[0m\n\u001b[0;31mSyntaxError\u001b[0m\u001b[0;31m:\u001b[0m invalid syntax\n"
     ]
    }
   ],
   "source": [
    "process_payload = {\n",
    "    \"partition_size\": 2, # Size of the partitions\n",
    "    \"spec_grobid_version\": \"0.7.2-SNAPSHOT\", # Schedule publications processed with a version number less than the one specified to be processed by Grobid\n",
    "    \"spec_softcite_version\": \"0.7.1\", # Schedule publications processed with a version number less than the one specified to be processed by Softcite\n",
    "    \"spec_datastet_version\": \"0.7.2-SNAPSHOT\", # Schedule publications processed with a version number less than the one specified to be processed by Datastet\n",
    "    \"break_after_one\": False # Mostly used in tests and development, stop the scheduling of the tasks after the first one if true\n",
    "}\n",
    "requests.get(process_url, headers=headers, data=process_payload)"
   ]
  }
 ],
 "metadata": {
  "kernelspec": {
   "display_name": "Python 3.7.1 ('venv': virtualenv)",
   "language": "python",
   "name": "python3"
  },
  "language_info": {
   "codemirror_mode": {
    "name": "ipython",
    "version": 3
   },
   "file_extension": ".py",
   "mimetype": "text/x-python",
   "name": "python",
   "nbconvert_exporter": "python",
   "pygments_lexer": "ipython3",
   "version": "3.7.1"
  },
  "orig_nbformat": 4,
  "vscode": {
   "interpreter": {
    "hash": "31525128ea8b8ba67a359f8e8d43d8a505ff95cf5b792e0bb8c706375f6fc025"
   }
  }
 },
 "nbformat": 4,
 "nbformat_minor": 2
}
