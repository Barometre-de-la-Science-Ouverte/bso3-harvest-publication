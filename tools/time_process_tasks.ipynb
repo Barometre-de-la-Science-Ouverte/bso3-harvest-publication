{
 "cells": [
  {
   "cell_type": "code",
   "execution_count": null,
   "id": "2c063065",
   "metadata": {},
   "outputs": [],
   "source": [
    "import re\n",
    "import subprocess\n",
    "\n",
    "def logs():\n",
    "    nb_workers = len(subprocess.check_output(\"kubectl get pods | awk '/harvester-worker/{print $1}'\", shell=True).decode().strip('\\n').split('\\n'))\n",
    "    return [subprocess.check_output(\"kubectl logs $(kubectl get pods | awk '/harvester-worker/{print $1}' | awk 'FNR==\" + str(i+1) + \"{print$1}')\", shell=True).decode() for i in range(nb_workers)]"
   ]
  },
  {
   "cell_type": "code",
   "execution_count": null,
   "id": "3829e705",
   "metadata": {},
   "outputs": [],
   "source": [
    "time_tasks_workers = [re.findall('(\\d{4}-\\d{2}-\\d{2} \\d{2}:\\d{2}:\\d{2}).*?Total runtime: (\\d+)', log) for log in logs()]"
   ]
  },
  {
   "cell_type": "code",
   "execution_count": null,
   "id": "48614e40",
   "metadata": {},
   "outputs": [],
   "source": [
    "import pandas as pd\n",
    "dfs = [pd.DataFrame(time_tasks_worker, columns=['date', 'task_duration']) for time_tasks_worker in time_tasks_workers]"
   ]
  },
  {
   "cell_type": "code",
   "execution_count": null,
   "id": "28b1cd44",
   "metadata": {},
   "outputs": [],
   "source": [
    "for i, df in enumerate(dfs):\n",
    "    df.date = pd.to_datetime(df.date)\n",
    "    df.task_duration = df.task_duration.astype(int)\n",
    "    df.set_index('date', inplace=True)\n",
    "    df['worker'] = str(i+1)"
   ]
  },
  {
   "cell_type": "code",
   "execution_count": null,
   "id": "57bc309a",
   "metadata": {},
   "outputs": [],
   "source": [
    "df = pd.concat(dfs)\n",
    "df = df.loc[df.index > pd.to_datetime('2022-04-28 18:00')]"
   ]
  },
  {
   "cell_type": "code",
   "execution_count": null,
   "id": "f21200f9",
   "metadata": {},
   "outputs": [],
   "source": [
    "import seaborn as sns\n",
    "import matplotlib.pyplot as plt\n",
    "from matplotlib import dates\n",
    "\n",
    "plt.figure(figsize=(15, 6))\n",
    "sns.set_theme()\n",
    "ax = sns.lineplot(x=\"date\", y=\"task_duration\",\n",
    "             hue=\"worker\",\n",
    "             data=df)\n",
    "ax.xaxis.set_major_formatter(dates.DateFormatter('%d/%m %H:%M'))\n",
    "ax.figure.autofmt_xdate()"
   ]
  },
  {
   "cell_type": "code",
   "execution_count": null,
   "id": "da688294",
   "metadata": {},
   "outputs": [],
   "source": [
    "mean_task_time_per_worker = [(df.query(f'worker==\"{i}\"').task_duration.mean() // 60) for i in range(1,7)]\n",
    "print(\"mean task time for each worker (in minutes)\", mean_task_time_per_worker)\n",
    "mean_task_time_eq = pd.np.mean(mean_task_time_per_worker) / len(mean_task_time_per_worker)\n",
    "print(f\"time per task equivalent {mean_task_time_eq:.2f} min\")"
   ]
  },
  {
   "cell_type": "code",
   "execution_count": null,
   "id": "d4162264",
   "metadata": {},
   "outputs": [],
   "source": [
    "remaining_nb_tasks = 3159\n",
    "computing_time_left_in_days = mean_task_time_eq * remaining_nb_tasks / 60 / 24\n",
    "print(f\"computing time left {computing_time_left_in_days:.2f} days\")"
   ]
  },
  {
   "cell_type": "code",
   "execution_count": null,
   "id": "6d70eef5",
   "metadata": {},
   "outputs": [],
   "source": [
    "task_progression = pd.DataFrame([\n",
    "    ('2022-04-25 17:30', 4275),\n",
    "    ('2022-04-26 11:52', 4240),\n",
    "    ('2022-04-27 11:04', 4161),\n",
    "    ('2022-04-27 11:18', 4161),\n",
    "    ('2022-04-27 14:31', 4151),\n",
    "    ('2022-04-28 17:07', 4042),\n",
    "    ('2022-04-29 11:20', 3911),\n",
    "    ('2022-04-29 15:35', 3880),\n",
    "    ('2022-05-02 11:21', 3375),\n",
    "    ('2022-05-03 16:10', 3159),\n",
    "    \n",
    "])\n",
    "task_progression[0] = pd.to_datetime(task_progression[0])\n",
    "ax = sns.lineplot(x=0, y=1,\n",
    "             data=task_progression)\n",
    "ax.xaxis.set_major_formatter(dates.DateFormatter('%d/%m %H:%M'))\n",
    "ax.figure.autofmt_xdate()"
   ]
  },
  {
   "cell_type": "code",
   "execution_count": null,
   "id": "d3f9a8f5",
   "metadata": {},
   "outputs": [],
   "source": [
    "record_progression = pd.DataFrame([\n",
    "    ('2022-04-25 17:30', 0),\n",
    "    ('2022-04-26 11:52', 3192),\n",
    "    ('2022-04-27 11:04', 9947),\n",
    "    ('2022-04-27 11:18', 9947),\n",
    "    ('2022-04-27 14:31', 11042),\n",
    "    ('2022-04-28 17:07', 22623),\n",
    "    ('2022-04-29 11:20', 35647),\n",
    "    ('2022-04-29 15:35', 38629),\n",
    "    ('2022-05-02 11:21', 88982),\n",
    "    ('2022-05-03 16:10', 127720),\n",
    "])\n",
    "record_progression[0] = pd.to_datetime(record_progression[0])\n",
    "ax = sns.lineplot(x=0, y=1,\n",
    "             data=record_progression)\n",
    "ax.xaxis.set_major_formatter(dates.DateFormatter('%d/%m %H:%M'))\n",
    "ax.figure.autofmt_xdate()"
   ]
  },
  {
   "cell_type": "code",
   "execution_count": null,
   "id": "97635d76",
   "metadata": {},
   "outputs": [],
   "source": []
  }
 ],
 "metadata": {
  "kernelspec": {
   "display_name": "venv",
   "language": "python",
   "name": "venv"
  }
 },
 "nbformat": 4,
 "nbformat_minor": 5
}
