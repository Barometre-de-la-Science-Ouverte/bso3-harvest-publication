{
 "cells": [
  {
   "cell_type": "code",
   "execution_count": 1,
   "id": "a08476b8",
   "metadata": {},
   "outputs": [],
   "source": [
    "import pandas as pd\n",
    "import gzip\n",
    "import json\n",
    "from tqdm import tqdm\n",
    "from glob import glob"
   ]
  },
  {
   "cell_type": "code",
   "execution_count": 2,
   "id": "f5058f3d",
   "metadata": {},
   "outputs": [],
   "source": [
    "def get_nth_key(dictionary, n=0):\n",
    "    if n < 0:\n",
    "        n += len(dictionary)\n",
    "    for i, key in enumerate(dictionary.keys()):\n",
    "        if i == n:\n",
    "            return key\n",
    "    raise IndexError(\"dictionary index out of range\")\n",
    "\n",
    "is_ca = lambda oa_details: not oa_details[get_nth_key(oa_details, -1)]['is_oa']\n",
    "\n",
    "def is_wiley_ca(entry):\n",
    "        return entry.get(\"publisher_normalized\") == \"Wiley\"\n",
    "def is_wiley_oa(entry):\n",
    "    is_wiley = False\n",
    "    latest_observation = entry['oa_details'][get_nth_key(entry['oa_details'], -1)]\n",
    "    for oa_location in latest_observation['oa_locations']:\n",
    "        if ('url_for_pdf' in oa_location) and oa_location['url_for_pdf']:\n",
    "                if \"wiley\" in oa_location[\"url_for_pdf\"]:\n",
    "                    is_wiley = True\n",
    "    return is_wiley\n",
    "\n",
    "def is_elsevier(entry):\n",
    "    return entry.get(\"publisher_normalized\") == \"Elsevier\"\n",
    "\n",
    "\n",
    "def is_hal(entry):\n",
    "    oa_location = entry['oa_details'][get_nth_key(entry['oa_details'], -1)]\n",
    "    return oa_location.get(\"repository_normalized\") == \"HAL\"\n",
    "\n",
    "def safe_add(obj, inc):\n",
    "    if not inc.empty:\n",
    "        try:\n",
    "            obj += inc.doi.to_list()\n",
    "        except:\n",
    "            obj += ['no_doi'] * len(inc.index)\n",
    "\n",
    "def count_newlines(fname):\n",
    "    def _make_gen(reader):\n",
    "        while True:\n",
    "            b = reader(2 ** 16)\n",
    "            if not b: break\n",
    "            yield b\n",
    "\n",
    "    with open(fname, \"rb\") as f:\n",
    "        count = sum(buf.count(b\"\\n\") for buf in _make_gen(f.raw.read))\n",
    "    return count\n",
    "\n",
    "def checkpoint(k):\n",
    "    pd.Series(ca, name='ca').to_csv(f'../tmp/checkpoint_ca_{k}.csv', index=None)\n",
    "    pd.Series(oa, name='oa').to_csv(f'../tmp/checkpoint_oa_{k}.csv', index=None)\n",
    "    pd.Series(wiley_ca, name='wiley_ca').to_csv(f'../tmp/checkpoint_wiley_ca_{k}.csv', index=None)\n",
    "    pd.Series(wiley_oa, name='wiley_oa').to_csv(f'../tmp/checkpoint_wiley_oa_{k}.csv', index=None)\n",
    "    pd.Series(elsevier_ca, name='elsevier_ca').to_csv(f'../tmp/checkpoint_elsevier_ca_{k}.csv', index=None)"
   ]
  },
  {
   "cell_type": "code",
   "execution_count": 3,
   "id": "d6b621b2",
   "metadata": {},
   "outputs": [
    {
     "name": "stderr",
     "output_type": "stream",
     "text": [
      "/Users/antoine.bres/dev/BSO/venv/lib/python3.7/site-packages/IPython/core/interactiveshell.py:3457: DtypeWarning: Columns (3,4,9) have mixed types.Specify dtype option on import or set low_memory=False.\n",
      "  exec(code_obj, self.user_global_ns, self.user_ns)\n"
     ]
    }
   ],
   "source": [
    "column_names = [\"doi\", \"uuid\", \"is_harvested\", \"softcite_version\", \"grobid_version\", \"harvester_used\", \"domain\", \"url_used\", \"harvesting_date\", \"datastet_version\"]\n",
    "db = pd.read_csv('../tmp/pg_dump/harvested_status_table.csv.gz', header=None, names=column_names)"
   ]
  },
  {
   "cell_type": "code",
   "execution_count": 4,
   "id": "d09653de",
   "metadata": {},
   "outputs": [
    {
     "data": {
      "text/plain": [
       "['/Users/antoine.bres/dev/BSO/tmp/bso-publications-latest-ad.jsonl',\n",
       " '/Users/antoine.bres/dev/BSO/tmp/bso-publications-latest-ab.jsonl',\n",
       " '/Users/antoine.bres/dev/BSO/tmp/bso-publications-latest-ae.jsonl',\n",
       " '/Users/antoine.bres/dev/BSO/tmp/bso-publications-latest-aa.jsonl',\n",
       " '/Users/antoine.bres/dev/BSO/tmp/bso-publications-latest-ac.jsonl']"
      ]
     },
     "execution_count": 4,
     "metadata": {},
     "output_type": "execute_result"
    }
   ],
   "source": [
    "metadata_files = glob('/Users/antoine.bres/dev/BSO/tmp/bso-publications-latest-*.jsonl')\n",
    "metadata_files"
   ]
  },
  {
   "cell_type": "code",
   "execution_count": 5,
   "id": "baab9cdf",
   "metadata": {},
   "outputs": [
    {
     "name": "stdout",
     "output_type": "stream",
     "text": [
      "716867 /Users/antoine.bres/dev/BSO/tmp/bso-publications-latest-ad.jsonl\n"
     ]
    },
    {
     "name": "stderr",
     "output_type": "stream",
     "text": [
      "100%|██████████| 72/72 [07:52<00:00,  6.56s/it]\n"
     ]
    },
    {
     "name": "stdout",
     "output_type": "stream",
     "text": [
      "716867 /Users/antoine.bres/dev/BSO/tmp/bso-publications-latest-ab.jsonl\n"
     ]
    },
    {
     "name": "stderr",
     "output_type": "stream",
     "text": [
      "100%|██████████| 72/72 [03:33<00:00,  2.97s/it]\n"
     ]
    },
    {
     "name": "stdout",
     "output_type": "stream",
     "text": [
      "2 /Users/antoine.bres/dev/BSO/tmp/bso-publications-latest-ae.jsonl\n"
     ]
    },
    {
     "name": "stderr",
     "output_type": "stream",
     "text": [
      "100%|██████████| 1/1 [00:00<00:00,  2.36it/s]\n",
      "/Users/antoine.bres/dev/BSO/venv/lib/python3.7/site-packages/ipykernel_launcher.py:49: DeprecationWarning: The default dtype for empty Series will be 'object' instead of 'float64' in a future version. Specify a dtype explicitly to silence this warning.\n",
      "/Users/antoine.bres/dev/BSO/venv/lib/python3.7/site-packages/ipykernel_launcher.py:51: DeprecationWarning: The default dtype for empty Series will be 'object' instead of 'float64' in a future version. Specify a dtype explicitly to silence this warning.\n",
      "/Users/antoine.bres/dev/BSO/venv/lib/python3.7/site-packages/ipykernel_launcher.py:52: DeprecationWarning: The default dtype for empty Series will be 'object' instead of 'float64' in a future version. Specify a dtype explicitly to silence this warning.\n",
      "/Users/antoine.bres/dev/BSO/venv/lib/python3.7/site-packages/ipykernel_launcher.py:53: DeprecationWarning: The default dtype for empty Series will be 'object' instead of 'float64' in a future version. Specify a dtype explicitly to silence this warning.\n"
     ]
    },
    {
     "name": "stdout",
     "output_type": "stream",
     "text": [
      "716867 /Users/antoine.bres/dev/BSO/tmp/bso-publications-latest-aa.jsonl\n"
     ]
    },
    {
     "name": "stderr",
     "output_type": "stream",
     "text": [
      "100%|██████████| 72/72 [03:27<00:00,  2.89s/it]\n"
     ]
    },
    {
     "name": "stdout",
     "output_type": "stream",
     "text": [
      "716867 /Users/antoine.bres/dev/BSO/tmp/bso-publications-latest-ac.jsonl\n"
     ]
    },
    {
     "name": "stderr",
     "output_type": "stream",
     "text": [
      "100%|██████████| 72/72 [07:07<00:00,  5.94s/it]\n"
     ]
    }
   ],
   "source": [
    "ca = []\n",
    "oa = []\n",
    "wiley_ca = []\n",
    "wiley_oa = []\n",
    "elsevier_ca = []\n",
    "elsevier_oa = []\n",
    "hal = []\n",
    "\n",
    "for k, metadata_file in enumerate(metadata_files):\n",
    "    nb_lines = count_newlines(metadata_file)\n",
    "    print(nb_lines, metadata_file)\n",
    "    chunk_size= 10_000\n",
    "    tqdm_total = (nb_lines // chunk_size) + 1\n",
    "    with pd.read_json(metadata_file, lines=True, chunksize=chunk_size) as reader:\n",
    "        for i, chunk in enumerate(tqdm(reader, total=tqdm_total)):\n",
    "            ca_entries = chunk.oa_details.apply(is_ca)\n",
    "\n",
    "            safe_add(ca, chunk[ca_entries])\n",
    "            safe_add(oa, chunk[~ca_entries])\n",
    "\n",
    "            wiley_ca_mask = chunk[ca_entries].apply(is_wiley_ca, axis=1)\n",
    "            wiley_ca_entries = chunk[chunk.index.isin(wiley_ca_mask.index)][wiley_ca_mask]\n",
    "            safe_add(wiley_ca, wiley_ca_entries)\n",
    "\n",
    "            wiley_oa_mask = chunk[~ca_entries].apply(is_wiley_oa, axis=1)\n",
    "            wiley_oa_entries = chunk[chunk.index.isin(wiley_oa_mask.index)][wiley_oa_mask]\n",
    "            safe_add(wiley_oa, wiley_oa_entries)\n",
    "\n",
    "            elsevier_mask = chunk[ca_entries].apply(is_elsevier, axis=1)\n",
    "            elsevier_entries = chunk[chunk.index.isin(elsevier_mask.index)][elsevier_mask]\n",
    "            safe_add(elsevier_ca, elsevier_entries)\n",
    "    \n",
    "    checkpoint(k)\n",
    "    ca = []\n",
    "    oa = []\n",
    "    wiley_ca = []\n",
    "    wiley_oa = []\n",
    "    elsevier_ca = []"
   ]
  },
  {
   "cell_type": "code",
   "execution_count": 6,
   "id": "01895af8",
   "metadata": {},
   "outputs": [],
   "source": [
    "ca = []\n",
    "oa = []\n",
    "wiley_ca = []\n",
    "wiley_oa = []\n",
    "elsevier_ca = []\n",
    "for i in range(len(metadata_files)):\n",
    "    ca += pd.read_csv(f'../tmp/checkpoint_ca_{i}.csv')['ca'].to_list()\n",
    "    oa += pd.read_csv(f'../tmp/checkpoint_oa_{i}.csv')['oa'].to_list()\n",
    "    wiley_ca += pd.read_csv(f'../tmp/checkpoint_wiley_ca_{i}.csv')['wiley_ca'].to_list()\n",
    "    wiley_oa += pd.read_csv(f'../tmp/checkpoint_wiley_oa_{i}.csv')['wiley_oa'].to_list()\n",
    "    elsevier_ca += pd.read_csv(f'../tmp/checkpoint_elsevier_ca_{i}.csv')['elsevier_ca'].to_list()\n",
    "\n",
    "oa = set(oa)\n",
    "ca = set(ca)\n",
    "nb_ca = len(ca)\n",
    "nb_oa = len(oa)\n",
    "total_nb = nb_ca + nb_oa"
   ]
  },
  {
   "cell_type": "markdown",
   "id": "efa13898",
   "metadata": {},
   "source": [
    "% de publi que l'on a réussi à télécharger au global, et en fonction du statut ouvert / fermé\n",
    "et avec une déclinaison pour Elsevier et Wiley\n",
    "ca permettrait de valider si on a bien 90% d'elsevier fermé (par ex)"
   ]
  },
  {
   "cell_type": "code",
   "execution_count": 7,
   "id": "ba3452c1",
   "metadata": {},
   "outputs": [],
   "source": [
    "doi_in_db = db.doi.to_list()\n",
    "oa_in_db = oa & set(doi_in_db)\n",
    "ca_in_db = ca & set(doi_in_db)"
   ]
  },
  {
   "cell_type": "code",
   "execution_count": 8,
   "id": "6631c4f9",
   "metadata": {},
   "outputs": [],
   "source": [
    "db['oa'] = db.doi.isin(oa_in_db)\n",
    "db['ca'] = db.doi.isin(ca_in_db)"
   ]
  },
  {
   "cell_type": "code",
   "execution_count": 9,
   "id": "1e324141",
   "metadata": {},
   "outputs": [
    {
     "name": "stdout",
     "output_type": "stream",
     "text": [
      "1,612,793 publications in total\n",
      "767,589 publications in open access (47.59%)\n",
      "845,204 publications in closed access (52.41%)\n"
     ]
    }
   ],
   "source": [
    "print(\n",
    "    f\"{total_nb:,} publications in total\\n\"\n",
    "    f\"{nb_oa:,} publications in open access ({nb_oa/total_nb:.2%})\\n\"\n",
    "    f\"{nb_ca:,} publications in closed access ({nb_ca/total_nb:.2%})\"\n",
    ")"
   ]
  },
  {
   "cell_type": "code",
   "execution_count": 10,
   "id": "d6837597",
   "metadata": {},
   "outputs": [
    {
     "name": "stdout",
     "output_type": "stream",
     "text": [
      "1,055,395 publications harvested (65.44% of 1,612,793)\n",
      "668,359 OA (87.07% of 767,589)\n",
      "385,418 CA (45.60% of 845,204)\n",
      "(1,618 neither OA nor CA according to the file, mostly OA according to the harvester used)\n"
     ]
    }
   ],
   "source": [
    "print(\n",
    "    f\"{len(db):,} publications harvested ({len(db)/total_nb:.2%} of {total_nb:,})\\n\"\n",
    "    f\"{db.oa.sum():,} OA ({db.oa.sum()/nb_oa:.2%} of {nb_oa:,})\\n\"\n",
    "    f\"{db.ca.sum():,} CA ({db.ca.sum()/nb_ca:.2%} of {nb_ca:,})\\n\"\n",
    "    f\"({len(db) - db.oa.sum() - db.ca.sum():,} neither OA nor CA according to the file, mostly OA according to the harvester used)\"\n",
    ")"
   ]
  },
  {
   "cell_type": "code",
   "execution_count": 11,
   "id": "d02f01c7",
   "metadata": {},
   "outputs": [],
   "source": [
    "db[~(db.oa | db.ca)].query(\"harvester_used == 'standard'\")['oa'] = True"
   ]
  },
  {
   "cell_type": "code",
   "execution_count": 12,
   "id": "705bc26e",
   "metadata": {},
   "outputs": [],
   "source": [
    "# hal_in_db = set(db.doi.to_list()) & set(hal)\n",
    "w_oa_in_db = set(doi_in_db) & set(wiley_oa)\n",
    "w_ca_in_db = set(doi_in_db) & set(wiley_ca)\n",
    "e_ca_in_db = set(doi_in_db) & set(elsevier_ca)"
   ]
  },
  {
   "cell_type": "code",
   "execution_count": 13,
   "id": "10ae342c",
   "metadata": {},
   "outputs": [
    {
     "name": "stdout",
     "output_type": "stream",
     "text": [
      "Elsevier: 256,090 in db, 95.13% of total (269,205)\n",
      "Wiley OA: 26,157 in db, 97.05% of total (26,951)\n",
      "Wiley CA: 50,711 in db, 86.74% of total (58,464)\n"
     ]
    }
   ],
   "source": [
    "print(f\"Elsevier: {len(e_ca_in_db):,} in db, {len(e_ca_in_db)/len(set(elsevier_ca)):.2%} of total ({len(set(elsevier_ca)):,})\")\n",
    "print(f\"Wiley OA: {len(w_oa_in_db):,} in db, {len(w_oa_in_db)/len(set(wiley_oa)):.2%} of total ({len(set(wiley_oa)):,})\")\n",
    "print(f\"Wiley CA: {len(w_ca_in_db):,} in db, {len(w_ca_in_db)/len(set(wiley_ca)):.2%} of total ({len(set(wiley_ca)):,})\")"
   ]
  },
  {
   "cell_type": "code",
   "execution_count": null,
   "id": "1d996c6b",
   "metadata": {},
   "outputs": [],
   "source": [
    "df = pd.DataFrame(db.doi)\n",
    "df['is_harvested'] = True"
   ]
  },
  {
   "cell_type": "code",
   "execution_count": null,
   "id": "c0874ccb",
   "metadata": {},
   "outputs": [],
   "source": [
    "oa_df = pd.DataFrame(oa, columns=['doi'])\n",
    "oa_df['is_oa'] = True\n",
    "ca_df = pd.DataFrame(ca, columns=['doi'])\n",
    "ca_df['is_oa'] = False\n",
    "df = oa_df.append(ca_df)\n",
    "harvested = df.doi.isin(db.doi)\n",
    "df['is_harvested'] = False\n",
    "df.loc[harvested, 'is_harvested'] = True"
   ]
  },
  {
   "cell_type": "code",
   "execution_count": null,
   "id": "97a57b72",
   "metadata": {},
   "outputs": [],
   "source": [
    "repo_hal = df.doi.isin(hal)\n",
    "repo_wiley = df.doi.isin(wiley_ca + wiley_oa)\n",
    "df['repo'] = \"NC\"\n",
    "df.loc[repo_hal, 'repo'] = \"HAL\"\n",
    "df.loc[repo_wiley, 'repo'] = \"Wiley\""
   ]
  },
  {
   "cell_type": "code",
   "execution_count": null,
   "id": "54c66fe3",
   "metadata": {},
   "outputs": [],
   "source": [
    "agg_df = df.groupby(['is_oa', 'is_harvested', 'repo']).agg('count')\n",
    "agg_df = agg_df.reset_index()"
   ]
  },
  {
   "cell_type": "code",
   "execution_count": null,
   "id": "18d1a6bd",
   "metadata": {},
   "outputs": [],
   "source": [
    "import seaborn as sns\n",
    "sns.set_style()"
   ]
  },
  {
   "cell_type": "code",
   "execution_count": null,
   "id": "2a61069f",
   "metadata": {},
   "outputs": [],
   "source": [
    "sns.catplot(x=\"is_harvested\", y=\"doi\",\n",
    "                data=agg_df[['is_oa', 'is_harvested', 'doi']]\\\n",
    "            .groupby(['is_oa', 'is_harvested']).sum().reset_index(),\n",
    "                kind=\"bar\", ci=None)"
   ]
  },
  {
   "cell_type": "code",
   "execution_count": null,
   "id": "b72d4982",
   "metadata": {},
   "outputs": [],
   "source": [
    "g = sns.catplot(x=\"is_harvested\", y=\"doi\", col=\"repo\",\n",
    "                data=agg_df.query('repo!=\"NC\"'),\n",
    "                kind=\"bar\", col_order=['Wiley', 'HAL'],  ci=None)\n",
    "g.set_titles(\"OA publications repo {col_name}\")"
   ]
  },
  {
   "cell_type": "code",
   "execution_count": null,
   "id": "cdd4b276",
   "metadata": {},
   "outputs": [],
   "source": [
    "g = sns.catplot(x=\"is_harvested\", y=\"doi\", col=\"is_oa\",\n",
    "                data=agg_df.query('repo==\"Wiley\"'),\n",
    "                kind=\"bar\",  ci=None)\n",
    "g.set_titles(\"Wiley OA {col_name}\")"
   ]
  }
 ],
 "metadata": {
  "kernelspec": {
   "display_name": "Python 3.7.1 ('venv': virtualenv)",
   "language": "python",
   "name": "python3"
  },
  "language_info": {
   "codemirror_mode": {
    "name": "ipython",
    "version": 3
   },
   "file_extension": ".py",
   "mimetype": "text/x-python",
   "name": "python",
   "nbconvert_exporter": "python",
   "pygments_lexer": "ipython3",
   "version": "3.7.1"
  },
  "vscode": {
   "interpreter": {
    "hash": "31525128ea8b8ba67a359f8e8d43d8a505ff95cf5b792e0bb8c706375f6fc025"
   }
  }
 },
 "nbformat": 4,
 "nbformat_minor": 5
}
