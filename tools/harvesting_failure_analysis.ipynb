{
 "cells": [
  {
   "cell_type": "code",
   "execution_count": 1,
   "id": "a08476b8",
   "metadata": {},
   "outputs": [],
   "source": [
    "import pandas as pd\n",
    "import gzip\n",
    "import json\n",
    "from tqdm import tqdm"
   ]
  },
  {
   "cell_type": "code",
   "execution_count": 3,
   "id": "f5058f3d",
   "metadata": {},
   "outputs": [],
   "source": [
    "def get_nth_key(dictionary, n=0):\n",
    "    if n < 0:\n",
    "        n += len(dictionary)\n",
    "    for i, key in enumerate(dictionary.keys()):\n",
    "        if i == n:\n",
    "            return key\n",
    "    raise IndexError(\"dictionary index out of range\")\n",
    "\n",
    "is_ca = lambda entry: not entry['oa_details'][get_nth_key(entry['oa_details'], -1)]['is_oa']\n",
    "\n",
    "def is_wiley(entry):\n",
    "    if is_ca(entry):\n",
    "        return entry.get(\"publisher_normalized\") == \"Wiley\"\n",
    "    else:\n",
    "        oa_location = entry['oa_details'][get_nth_key(entry['oa_details'], -1)]\n",
    "        for oa_location in latest_observation['oa_locations']:\n",
    "            if ('url_for_pdf' in oa_location) and oa_location['url_for_pdf']:\n",
    "                for i, strategy in enumerate(oa_harvesting_strategy):\n",
    "                    if strategy(oa_location):\n",
    "                        update_dict(urls_for_pdf, i, oa_location['url_for_pdf'])\n",
    "                        update_dict(oa_locations, i, oa_location)\n",
    "\n",
    "def is_hal(entry):\n",
    "    oa_location = entry['oa_details'][get_nth_key(entry['oa_details'], -1)]\n",
    "    return oa_location.get(\"repository_normalized\") == \"HAL\""
   ]
  },
  {
   "cell_type": "code",
   "execution_count": 4,
   "id": "d6b621b2",
   "metadata": {},
   "outputs": [],
   "source": [
    "db = pd.read_csv('../../tmp/db_dump_2022-04-25.csv')"
   ]
  },
  {
   "cell_type": "code",
   "execution_count": 5,
   "id": "6e42049e",
   "metadata": {},
   "outputs": [
    {
     "name": "stderr",
     "output_type": "stream",
     "text": [
      "100%|█████████████████████████████████████████████████████████████████████████████████████████████████████████████████████████████████████████████████| 1352492/1352492 [01:32<00:00, 14628.69it/s]\n"
     ]
    }
   ],
   "source": [
    "ca = []\n",
    "oa = []\n",
    "wiley_ca = []\n",
    "wiley_oa = []\n",
    "hal = []\n",
    "with gzip.open('/Users/antoine.bres/dev/BSO/tmp/bso-publications-20220410.jsonl.gz', 'rt') as f:\n",
    "    for line in tqdm(f.readlines()):\n",
    "        entry = json.loads(line)\n",
    "        is_ca_entry = is_ca(entry)\n",
    "        if is_ca_entry:\n",
    "            ca.append(entry['doi'])\n",
    "            if entry.get(\"publisher_normalized\") == \"Wiley\":\n",
    "                wiley_ca.append(entry['doi'])\n",
    "        else:\n",
    "            oa.append(entry['doi'])\n",
    "            for oa_location in entry['oa_details'][get_nth_key(entry['oa_details'], -1)]['oa_locations']:\n",
    "                if oa_location.get(\"repository_normalized\") and oa_location.get(\"repository_normalized\") == \"HAL\":\n",
    "                    hal.append(entry['doi'])\n",
    "                if oa_location.get(\"url_for_pdf\") and 'wiley' in oa_location.get(\"url_for_pdf\"):\n",
    "                    wiley_oa.append(entry['doi'])\n",
    "\n",
    "oa = set(oa)\n",
    "ca = set(ca)\n",
    "nb_ca = len(ca)\n",
    "nb_oa = len(oa)\n",
    "total_nb = nb_ca + nb_oa"
   ]
  },
  {
   "cell_type": "code",
   "execution_count": 6,
   "id": "ba3452c1",
   "metadata": {},
   "outputs": [],
   "source": [
    "oa_in_db = oa & set(db.doi.to_list())"
   ]
  },
  {
   "cell_type": "code",
   "execution_count": 7,
   "id": "6631c4f9",
   "metadata": {},
   "outputs": [],
   "source": [
    "db['oa'] = db.doi.apply(lambda doi: doi in oa_in_db)"
   ]
  },
  {
   "cell_type": "code",
   "execution_count": 8,
   "id": "1e324141",
   "metadata": {},
   "outputs": [
    {
     "name": "stdout",
     "output_type": "stream",
     "text": [
      "1,352,428 publications in total\n",
      "617,140 publications in open access (45.63%)\n",
      "735,288 publications in closed access (54.37%)\n"
     ]
    }
   ],
   "source": [
    "print(f\"{total_nb:,} publications in total\\n{nb_oa:,} publications in open access ({nb_oa/total_nb:.2%})\\n{nb_ca:,} publications in closed access ({nb_ca/total_nb:.2%})\")"
   ]
  },
  {
   "cell_type": "code",
   "execution_count": 9,
   "id": "d6837597",
   "metadata": {},
   "outputs": [
    {
     "name": "stdout",
     "output_type": "stream",
     "text": [
      "427,544 publications harvested\n",
      "425,589 OA (68.96% of 617,140)\n",
      "1,955 CA\n"
     ]
    }
   ],
   "source": [
    "print(f\"{len(db):,} publications harvested\\n{db.oa.sum():,} OA ({db.oa.sum()/nb_oa:.2%} of {nb_oa:,})\\n{len(db) - db.oa.sum():,} CA\")"
   ]
  },
  {
   "cell_type": "code",
   "execution_count": 10,
   "id": "705bc26e",
   "metadata": {},
   "outputs": [],
   "source": [
    "hal_in_db = set(db.doi.to_list()) & set(hal)\n",
    "w_oa_in_db = set(db.doi.to_list()) & set(wiley_oa)\n",
    "w_ca_in_db = set(db.doi.to_list()) & set(wiley_ca)"
   ]
  },
  {
   "cell_type": "code",
   "execution_count": 11,
   "id": "10ae342c",
   "metadata": {},
   "outputs": [
    {
     "name": "stdout",
     "output_type": "stream",
     "text": [
      "HAL: 141,796 in db, 88.92% of total (159,472)\n",
      "Wiley OA: 13,581 in db, 57.66% of total (23,554)\n",
      "Wiley CA: 1,955 in db, 3.85% of total (50,782)\n"
     ]
    }
   ],
   "source": [
    "print(f\"HAL: {len(hal_in_db):,} in db, {len(hal_in_db)/len(set(hal)):.2%} of total ({len(set(hal)):,})\")\n",
    "print(f\"Wiley OA: {len(w_oa_in_db):,} in db, {len(w_oa_in_db)/len(set(wiley_oa)):.2%} of total ({len(set(wiley_oa)):,})\")\n",
    "print(f\"Wiley CA: {len(w_ca_in_db):,} in db, {len(w_ca_in_db)/len(set(wiley_ca)):.2%} of total ({len(set(wiley_ca)):,})\")"
   ]
  },
  {
   "cell_type": "code",
   "execution_count": 12,
   "id": "1d996c6b",
   "metadata": {},
   "outputs": [],
   "source": [
    "df = pd.DataFrame(db.doi)\n",
    "df['is_harvested'] = True"
   ]
  },
  {
   "cell_type": "code",
   "execution_count": 13,
   "id": "c0874ccb",
   "metadata": {},
   "outputs": [],
   "source": [
    "oa_df = pd.DataFrame(oa, columns=['doi'])\n",
    "oa_df['is_oa'] = True\n",
    "ca_df = pd.DataFrame(ca, columns=['doi'])\n",
    "ca_df['is_oa'] = False\n",
    "df = oa_df.append(ca_df)\n",
    "harvested = df.doi.isin(db.doi)\n",
    "df['is_harvested'] = False\n",
    "df.loc[harvested, 'is_harvested'] = True"
   ]
  },
  {
   "cell_type": "code",
   "execution_count": 14,
   "id": "97a57b72",
   "metadata": {},
   "outputs": [],
   "source": [
    "repo_hal = df.doi.isin(hal)\n",
    "repo_wiley = df.doi.isin(wiley_ca + wiley_oa)\n",
    "df['repo'] = \"NC\"\n",
    "df.loc[repo_hal, 'repo'] = \"HAL\"\n",
    "df.loc[repo_wiley, 'repo'] = \"Wiley\""
   ]
  },
  {
   "cell_type": "code",
   "execution_count": 15,
   "id": "54c66fe3",
   "metadata": {},
   "outputs": [],
   "source": [
    "agg_df = df.groupby(['is_oa', 'is_harvested', 'repo']).agg('count')\n",
    "agg_df = agg_df.reset_index()"
   ]
  },
  {
   "cell_type": "code",
   "execution_count": 16,
   "id": "18d1a6bd",
   "metadata": {},
   "outputs": [],
   "source": [
    "import seaborn as sns\n",
    "sns.set_style()"
   ]
  },
  {
   "cell_type": "code",
   "execution_count": 17,
   "id": "2a61069f",
   "metadata": {},
   "outputs": [
    {
     "data": {
      "text/plain": [
       "<seaborn.axisgrid.FacetGrid at 0x7f887db3cb00>"
      ]
     },
     "execution_count": 17,
     "metadata": {},
     "output_type": "execute_result"
    },
    {
     "data": {
      "image/png": "[encoded data removed]",
      "text/plain": [
       "<Figure size 360x360 with 1 Axes>"
      ]
     },
     "metadata": {
      "needs_background": "light"
     },
     "output_type": "display_data"
    }
   ],
   "source": [
    "sns.catplot(x=\"is_harvested\", y=\"doi\",\n",
    "                data=agg_df[['is_oa', 'is_harvested', 'doi']]\\\n",
    "            .groupby(['is_oa', 'is_harvested']).sum().reset_index(),\n",
    "                kind=\"bar\", ci=None)"
   ]
  },
  {
   "cell_type": "code",
   "execution_count": 18,
   "id": "b72d4982",
   "metadata": {},
   "outputs": [
    {
     "data": {
      "text/plain": [
       "<seaborn.axisgrid.FacetGrid at 0x7f8a72ad92b0>"
      ]
     },
     "execution_count": 18,
     "metadata": {},
     "output_type": "execute_result"
    },
    {
     "data": {
      "image/png": "[encoded data removed]",
      "text/plain": [
       "<Figure size 720x360 with 2 Axes>"
      ]
     },
     "metadata": {
      "needs_background": "light"
     },
     "output_type": "display_data"
    }
   ],
   "source": [
    "g = sns.catplot(x=\"is_harvested\", y=\"doi\", col=\"repo\",\n",
    "                data=agg_df.query('repo!=\"NC\"'),\n",
    "                kind=\"bar\", col_order=['Wiley', 'HAL'],  ci=None)\n",
    "g.set_titles(\"OA publications repo {col_name}\")"
   ]
  },
  {
   "cell_type": "code",
   "execution_count": 19,
   "id": "cdd4b276",
   "metadata": {},
   "outputs": [
    {
     "data": {
      "text/plain": [
       "<seaborn.axisgrid.FacetGrid at 0x7f887de66320>"
      ]
     },
     "execution_count": 19,
     "metadata": {},
     "output_type": "execute_result"
    },
    {
     "data": {
      "image/png": "[encoded data removed]",
      "text/plain": [
       "<Figure size 720x360 with 2 Axes>"
      ]
     },
     "metadata": {
      "needs_background": "light"
     },
     "output_type": "display_data"
    }
   ],
   "source": [
    "g = sns.catplot(x=\"is_harvested\", y=\"doi\", col=\"is_oa\",\n",
    "                data=agg_df.query('repo==\"Wiley\"'),\n",
    "                kind=\"bar\",  ci=None)\n",
    "g.set_titles(\"Wiley OA {col_name}\")"
   ]
  }
 ],
 "metadata": {
  "kernelspec": {
   "display_name": "venv",
   "language": "python",
   "name": "venv"
  },
  "language_info": {
   "codemirror_mode": {
    "name": "ipython",
    "version": 3
   },
   "file_extension": ".py",
   "mimetype": "text/x-python",
   "name": "python",
   "nbconvert_exporter": "python",
   "pygments_lexer": "ipython3",
   "version": "3.7.1"
  }
 },
 "nbformat": 4,
 "nbformat_minor": 5
}
