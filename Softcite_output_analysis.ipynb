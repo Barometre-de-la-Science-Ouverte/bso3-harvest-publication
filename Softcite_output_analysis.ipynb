{
 "cells": [
  {
   "cell_type": "code",
   "execution_count": 1,
   "metadata": {},
   "outputs": [],
   "source": [
    "import os\n",
    "import json\n",
    "import logging\n",
    "from glob import glob\n",
    "import pandas as pd\n",
    "from infrastructure.storage.swift import Swift\n",
    "from config.harvester_config import config_harvester\n",
    "\n",
    "# create logger\n",
    "logger = logging.getLogger()\n",
    "logger.setLevel(logging.WARNING)\n",
    "PROCESSED_PUBLICATIONS_DIR = './processed_publications/'"
   ]
  },
  {
   "cell_type": "code",
   "execution_count": 2,
   "metadata": {},
   "outputs": [],
   "source": [
    "def load_softcite_output_data(processed_files, batch_size=100):\n",
    "    clean_up()\n",
    "    partitions = [file for i in range(0,len(processed_files),batch_size) for file in processed_files[i:i+batch_size] if file.endswith('.software.json')]\n",
    "    mentions = []\n",
    "    for partition in partitions:\n",
    "        local_files = download_batch(partition, PROCESSED_PUBLICATIONS_DIR)\n",
    "        files_content = load_content(local_files)\n",
    "        mentions.extend(extract_mentions(files_content))\n",
    "        clean_up()\n",
    "    return mentions\n",
    "\n",
    "\n",
    "def clean_up():\n",
    "    for file in glob(os.path.join(PROCESSED_PUBLICATIONS_DIR, '*.software.json')):\n",
    "        os.remove(file)\n",
    "\n",
    "def extract_mentions(files_content):\n",
    "    mentions = []\n",
    "    for file_id, json_file in files_content:\n",
    "        file_mentions = []\n",
    "        for mention in json_file['mentions']:\n",
    "            file_mentions.append(mention['software-name']['normalizedForm'])\n",
    "        mentions.append((file_id, file_mentions))\n",
    "    return mentions\n",
    "    \n",
    "def load_content(local_files):\n",
    "    files_content = []\n",
    "    for file in local_files:\n",
    "        file_id = os.path.basename(file).split('.')[0]\n",
    "        with open(file, 'r') as f:\n",
    "            files_content.append((file_id, json.load(f)))\n",
    "    return files_content\n",
    "\n",
    "def download_batch(batch, dest_dir):\n",
    "    if not os.path.exists(dest_dir):\n",
    "        os.makedirs(dest_dir)\n",
    "    storage_handler.download_files(config_harvester['publications_dump'], batch, dest_path=dest_dir)\n",
    "    return glob(os.path.join(PROCESSED_PUBLICATIONS_DIR, '*.software.json'))"
   ]
  },
  {
   "cell_type": "code",
   "execution_count": 3,
   "metadata": {},
   "outputs": [
    {
     "name": "stdout",
     "output_type": "stream",
     "text": [
      "using output SWIFT bso3_publications_dump container: {'count': 26573, 'last_modified': '2022-02-08T15:52:53.709830', 'bytes': 19343955200, 'name': 'bso3_publications_dump'}\n",
      "using input SWIFT bso_dump container: {'count': 117, 'last_modified': '2022-02-05T17:36:08.026270', 'bytes': 4833008355, 'name': 'bso_dump'}\n",
      "2022-02-08 17:02:56,329 | infrastructure.storage.swift | DEBUG | container already exists on SWIFT object storage: bso3_publications_dump\n"
     ]
    }
   ],
   "source": [
    "storage_handler = Swift(config_harvester)"
   ]
  },
  {
   "cell_type": "code",
   "execution_count": 4,
   "metadata": {},
   "outputs": [
    {
     "name": "stdout",
     "output_type": "stream",
     "text": [
      "Il y a 7297 fichiers\n"
     ]
    }
   ],
   "source": [
    "processed_files = storage_handler.get_swift_list(config_harvester['publications_dump'], dir_name='processed')\n",
    "print(f\"Il y a {len(processed_files)} fichiers\")"
   ]
  },
  {
   "cell_type": "code",
   "execution_count": 5,
   "metadata": {},
   "outputs": [],
   "source": [
    "# 7297 fichiers => ~15min\n",
    "%time mentions = load_softcite_output_data(processed_files)\n",
    "# %time mentions = load_softcite_output_data(processed_files[:200])"
   ]
  },
  {
   "cell_type": "code",
   "execution_count": 6,
   "metadata": {},
   "outputs": [
    {
     "data": {
      "text/html": [
       "<div>\n",
       "<style scoped>\n",
       "    .dataframe tbody tr th:only-of-type {\n",
       "        vertical-align: middle;\n",
       "    }\n",
       "\n",
       "    .dataframe tbody tr th {\n",
       "        vertical-align: top;\n",
       "    }\n",
       "\n",
       "    .dataframe thead th {\n",
       "        text-align: right;\n",
       "    }\n",
       "</style>\n",
       "<table border=\"1\" class=\"dataframe\">\n",
       "  <thead>\n",
       "    <tr style=\"text-align: right;\">\n",
       "      <th></th>\n",
       "      <th>nb_mentions</th>\n",
       "      <th>nb_unique_mentions</th>\n",
       "    </tr>\n",
       "  </thead>\n",
       "  <tbody>\n",
       "    <tr>\n",
       "      <th>count</th>\n",
       "      <td>7293.000000</td>\n",
       "      <td>7293.000000</td>\n",
       "    </tr>\n",
       "    <tr>\n",
       "      <th>mean</th>\n",
       "      <td>4.147127</td>\n",
       "      <td>1.898396</td>\n",
       "    </tr>\n",
       "    <tr>\n",
       "      <th>std</th>\n",
       "      <td>15.118544</td>\n",
       "      <td>3.374254</td>\n",
       "    </tr>\n",
       "    <tr>\n",
       "      <th>min</th>\n",
       "      <td>0.000000</td>\n",
       "      <td>0.000000</td>\n",
       "    </tr>\n",
       "    <tr>\n",
       "      <th>25%</th>\n",
       "      <td>0.000000</td>\n",
       "      <td>0.000000</td>\n",
       "    </tr>\n",
       "    <tr>\n",
       "      <th>50%</th>\n",
       "      <td>1.000000</td>\n",
       "      <td>1.000000</td>\n",
       "    </tr>\n",
       "    <tr>\n",
       "      <th>75%</th>\n",
       "      <td>3.000000</td>\n",
       "      <td>2.000000</td>\n",
       "    </tr>\n",
       "    <tr>\n",
       "      <th>max</th>\n",
       "      <td>502.000000</td>\n",
       "      <td>37.000000</td>\n",
       "    </tr>\n",
       "  </tbody>\n",
       "</table>\n",
       "</div>"
      ],
      "text/plain": [
       "       nb_mentions  nb_unique_mentions\n",
       "count  7293.000000         7293.000000\n",
       "mean      4.147127            1.898396\n",
       "std      15.118544            3.374254\n",
       "min       0.000000            0.000000\n",
       "25%       0.000000            0.000000\n",
       "50%       1.000000            1.000000\n",
       "75%       3.000000            2.000000\n",
       "max     502.000000           37.000000"
      ]
     },
     "execution_count": 6,
     "metadata": {},
     "output_type": "execute_result"
    }
   ],
   "source": [
    "mentions_by_files = pd.DataFrame(mentions).rename(columns={0:'file_id', 1:'mentions'}).set_index('file_id')\n",
    "mentions_by_files['nb_mentions'] = mentions_by_files['mentions'].apply(len)\n",
    "mentions_by_files['nb_unique_mentions'] = mentions_by_files['mentions'].apply(set).apply(len)\n",
    "mentions_by_files.describe()"
   ]
  },
  {
   "cell_type": "code",
   "execution_count": 10,
   "metadata": {},
   "outputs": [
    {
     "data": {
      "text/html": [
       "<div>\n",
       "<style scoped>\n",
       "    .dataframe tbody tr th:only-of-type {\n",
       "        vertical-align: middle;\n",
       "    }\n",
       "\n",
       "    .dataframe tbody tr th {\n",
       "        vertical-align: top;\n",
       "    }\n",
       "\n",
       "    .dataframe thead th {\n",
       "        text-align: right;\n",
       "    }\n",
       "</style>\n",
       "<table border=\"1\" class=\"dataframe\">\n",
       "  <thead>\n",
       "    <tr style=\"text-align: right;\">\n",
       "      <th></th>\n",
       "      <th>mentions</th>\n",
       "      <th>nb_mentions</th>\n",
       "      <th>nb_unique_mentions</th>\n",
       "    </tr>\n",
       "    <tr>\n",
       "      <th>file_id</th>\n",
       "      <th></th>\n",
       "      <th></th>\n",
       "      <th></th>\n",
       "    </tr>\n",
       "  </thead>\n",
       "  <tbody>\n",
       "    <tr>\n",
       "      <th>00054b55-3bf8-45a5-9c44-9bdbaf4d60df</th>\n",
       "      <td>[Cutadapt, fastQC_0, GraphPad Prism, DESeq]</td>\n",
       "      <td>4</td>\n",
       "      <td>4</td>\n",
       "    </tr>\n",
       "    <tr>\n",
       "      <th>000849c1-e55e-48e2-ab83-6dfdbd323d5b</th>\n",
       "      <td>[SPSSv, MedCalc]</td>\n",
       "      <td>2</td>\n",
       "      <td>2</td>\n",
       "    </tr>\n",
       "    <tr>\n",
       "      <th>000fe7b5-8930-45e4-8d55-bfbdb37c4165</th>\n",
       "      <td>[Volocity, DIAS, ImageJ, MATLAB, Photo- shop, ...</td>\n",
       "      <td>12</td>\n",
       "      <td>7</td>\n",
       "    </tr>\n",
       "    <tr>\n",
       "      <th>00161c7a-ac7f-47c4-af6c-9bb81e9ec80e</th>\n",
       "      <td>[]</td>\n",
       "      <td>0</td>\n",
       "      <td>0</td>\n",
       "    </tr>\n",
       "    <tr>\n",
       "      <th>001f0168-f4a3-4ff4-a98a-cf38216e9aec</th>\n",
       "      <td>[]</td>\n",
       "      <td>0</td>\n",
       "      <td>0</td>\n",
       "    </tr>\n",
       "  </tbody>\n",
       "</table>\n",
       "</div>"
      ],
      "text/plain": [
       "                                                                               mentions  \\\n",
       "file_id                                                                                   \n",
       "00054b55-3bf8-45a5-9c44-9bdbaf4d60df        [Cutadapt, fastQC_0, GraphPad Prism, DESeq]   \n",
       "000849c1-e55e-48e2-ab83-6dfdbd323d5b                                   [SPSSv, MedCalc]   \n",
       "000fe7b5-8930-45e4-8d55-bfbdb37c4165  [Volocity, DIAS, ImageJ, MATLAB, Photo- shop, ...   \n",
       "00161c7a-ac7f-47c4-af6c-9bb81e9ec80e                                                 []   \n",
       "001f0168-f4a3-4ff4-a98a-cf38216e9aec                                                 []   \n",
       "\n",
       "                                      nb_mentions  nb_unique_mentions  \n",
       "file_id                                                                \n",
       "00054b55-3bf8-45a5-9c44-9bdbaf4d60df            4                   4  \n",
       "000849c1-e55e-48e2-ab83-6dfdbd323d5b            2                   2  \n",
       "000fe7b5-8930-45e4-8d55-bfbdb37c4165           12                   7  \n",
       "00161c7a-ac7f-47c4-af6c-9bb81e9ec80e            0                   0  \n",
       "001f0168-f4a3-4ff4-a98a-cf38216e9aec            0                   0  "
      ]
     },
     "execution_count": 10,
     "metadata": {},
     "output_type": "execute_result"
    }
   ],
   "source": [
    "mentions_by_files.head()"
   ]
  },
  {
   "cell_type": "code",
   "execution_count": 7,
   "metadata": {},
   "outputs": [
    {
     "name": "stdout",
     "output_type": "stream",
     "text": [
      "count    7709.000000\n",
      "mean        3.923336\n",
      "std        13.142169\n",
      "min         1.000000\n",
      "25%         1.000000\n",
      "50%         1.000000\n",
      "75%         2.000000\n",
      "max       479.000000\n",
      "dtype: float64\n"
     ]
    },
    {
     "data": {
      "text/plain": [
       "ImageJ                      479\n",
       "SAS                         297\n",
       "SPEDAS                      285\n",
       "MATLAB                      255\n",
       "GraphPad Prism              254\n",
       "                           ... \n",
       "MS Office Excel               1\n",
       "snpEff                        1\n",
       "vcf-annotate-filter Qual      1\n",
       "Viewer                        1\n",
       "GESTE                         1\n",
       "Length: 7709, dtype: int64"
      ]
     },
     "execution_count": 7,
     "metadata": {},
     "output_type": "execute_result"
    }
   ],
   "source": [
    "mentions_count = pd.Series([e for file_id, mentions_list in mentions for e in mentions_list]).value_counts()\n",
    "print(mentions_count.describe())\n",
    "mentions_count"
   ]
  },
  {
   "cell_type": "code",
   "execution_count": 8,
   "metadata": {},
   "outputs": [
    {
     "name": "stdout",
     "output_type": "stream",
     "text": [
      "count    7709.000000\n",
      "mean        1.795953\n",
      "std         6.806065\n",
      "min         1.000000\n",
      "25%         1.000000\n",
      "50%         1.000000\n",
      "75%         1.000000\n",
      "max       288.000000\n",
      "dtype: float64\n"
     ]
    },
    {
     "data": {
      "text/plain": [
       "ImageJ                     288\n",
       "SAS                        235\n",
       "GraphPad Prism             219\n",
       "SPSS                       210\n",
       "Matlab                     139\n",
       "                          ... \n",
       "Surveillance R-package       1\n",
       "Surveillance R- package      1\n",
       "NIS-elements AR              1\n",
       "xspec                        1\n",
       "GESTE                        1\n",
       "Length: 7709, dtype: int64"
      ]
     },
     "execution_count": 8,
     "metadata": {},
     "output_type": "execute_result"
    }
   ],
   "source": [
    "u_mentions_count = pd.Series([e for file_id, mentions_list in mentions for e in set(mentions_list)]).value_counts()\n",
    "print(u_mentions_count.describe())\n",
    "u_mentions_count"
   ]
  }
 ],
 "metadata": {
  "kernelspec": {
   "display_name": "venv",
   "language": "python",
   "name": "venv"
  },
  "language_info": {
   "codemirror_mode": {
    "name": "ipython",
    "version": 3
   },
   "file_extension": ".py",
   "mimetype": "text/x-python",
   "name": "python",
   "nbconvert_exporter": "python",
   "pygments_lexer": "ipython3",
   "version": "3.7.1"
  }
 },
 "nbformat": 4,
 "nbformat_minor": 2
}
